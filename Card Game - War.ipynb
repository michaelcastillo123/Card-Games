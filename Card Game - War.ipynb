{
 "cells": [
  {
   "cell_type": "code",
   "execution_count": 1,
   "metadata": {},
   "outputs": [],
   "source": [
    "# create set of cards\n",
    "# must split cards into two players\n",
    "# keep order of cards for each player\n",
    "# "
   ]
  },
  {
   "cell_type": "code",
   "execution_count": 2,
   "metadata": {},
   "outputs": [],
   "source": [
    "import random\n",
    "suits = ('Hearts', 'Diamonds', 'Spades', 'Clubs')\n",
    "ranks = ('Two', 'Three', 'Four', 'Five', 'Six', 'Seven', 'Eight', 'Nine', 'Ten', 'Jack', 'Queen', 'King', 'Ace')\n",
    "value = {'Two':2, 'Three':3, 'Four':4, 'Five':5, 'Six': 6, 'Seven':7, 'Eight':8, 'Nine':9, 'Ten':10, 'Jack':11, 'Queen':12,'King':13, 'Ace':14}\n"
   ]
  },
  {
   "cell_type": "code",
   "execution_count": 3,
   "metadata": {},
   "outputs": [],
   "source": [
    "class Card:\n",
    "    \n",
    "    def __init__(self,suit,rank):\n",
    "        self.suit = suit\n",
    "        self.rank = rank\n",
    "        self.value = value[rank]\n",
    "    \n",
    "    def __str__(self):\n",
    "        return self.rank + ' of ' + self.suit"
   ]
  },
  {
   "cell_type": "code",
   "execution_count": 4,
   "metadata": {},
   "outputs": [],
   "source": [
    "class Deck:\n",
    "    \n",
    "    def __init__(self):\n",
    "        self.all_cards = []\n",
    "        \n",
    "        for s in suits:\n",
    "            for r in ranks:\n",
    "                create_card = Card(s,r)\n",
    "                self.all_cards.append(create_card)\n",
    "    \n",
    "    def shuffle(self):\n",
    "        \n",
    "        random.shuffle(self.all_cards)\n",
    "        \n",
    "    def deal_one(self):\n",
    "        \n",
    "        return self.all_cards.pop(0)\n",
    "        "
   ]
  },
  {
   "cell_type": "code",
   "execution_count": 5,
   "metadata": {},
   "outputs": [],
   "source": [
    "class Player():\n",
    "    \n",
    "    def __init__(self,name):\n",
    "        \n",
    "        self.name = name\n",
    "        self.cards_held = []\n",
    "        \n",
    "    def remove_one(self):\n",
    "        \n",
    "        return self.cards_held.pop(0)\n",
    "    \n",
    "    def add_cards(self,new_cards):\n",
    "        if type(new_cards) == type([]):\n",
    "            self.cards_held.extend(new_cards)\n",
    "            \n",
    "        else:\n",
    "            self.cards_held.append(new_cards)\n",
    "            \n",
    "    def __str__(self):\n",
    "        return f'{self.name} has {len(self.cards_held)}'"
   ]
  },
  {
   "cell_type": "code",
   "execution_count": 12,
   "metadata": {},
   "outputs": [],
   "source": [
    "def play_game():\n",
    "    #set players\n",
    "    p1 = Player('First')\n",
    "    p2 = Player('Second')\n",
    "    \n",
    "    #prepare the deck\n",
    "    adeck = Deck()\n",
    "    adeck.shuffle()\n",
    "    \n",
    "    #distribute the cards\n",
    "    p1.add_cards(adeck.all_cards[0:26])\n",
    "    p2.add_cards(adeck.all_cards[26:52])\n",
    "    adeck.all_cards = []\n",
    "\n",
    "    #play a card, compare the two cards or tie buckets cards to play again - highest card takes card pile\n",
    "    rn = 0\n",
    "    while True:\n",
    "        if len(p1.cards_held) == 0 or len(p2.cards_held) == 0:\n",
    "            False\n",
    "            break\n",
    "        x = p1.cards_held[0]\n",
    "        y = p2.cards_held[0]\n",
    "        rn = 1 + rn\n",
    "        adeck.all_cards.append(p1.remove_one())\n",
    "        adeck.all_cards.append(p2.remove_one())\n",
    "        \n",
    "        if x.value == y.value:\n",
    "            print(f'{x.rank} vs. {y.rank}')\n",
    "            print('Its a draw!')\n",
    "            war_draw = 10\n",
    "            if len(p1.cards_held) < war_draw or len(p2.cards_held) < war_draw:\n",
    "                if len(p1.cards_held) > len(p2.cards_held):\n",
    "                    print(f'Game over!{p1.name} wins!')\n",
    "                else:\n",
    "                    print(f'Game over!{p1.name} wins!')\n",
    "                False\n",
    "            else:         \n",
    "                for i in range(war_draw):\n",
    "                    adeck.all_cards.append(p1.remove_one())\n",
    "                    adeck.all_cards.append(p2.remove_one())\n",
    "            \n",
    "        elif x.value > y.value:\n",
    "            print(f'{x.rank} vs. {y.rank}')\n",
    "            print(f'{p1.name} won the round!')             \n",
    "            p1.add_cards(adeck.all_cards)   \n",
    "            adeck.all_cards = []\n",
    "            \n",
    "        elif x.value < y.value:\n",
    "            print(f'{x.rank} vs. {y.rank}')\n",
    "            print(f'{p2.name} won the round!')               \n",
    "            p2.add_cards(adeck.all_cards)\n",
    "            adeck.all_cards = []\n",
    "\n",
    "        print(f'Round: {rn}')\n",
    "        print(f'{len(p1.cards_held)} + {len(p2.cards_held)} total of {len(p1.cards_held) + len(p2.cards_held)}')\n",
    "                \n"
   ]
  },
  {
   "cell_type": "code",
   "execution_count": 13,
   "metadata": {},
   "outputs": [
    {
     "name": "stdout",
     "output_type": "stream",
     "text": [
      "Queen vs. Jack\n",
      "First won the round!\n",
      "Round: 1\n",
      "27 + 25 total of 52\n",
      "Jack vs. Queen\n",
      "Second won the round!\n",
      "Round: 2\n",
      "26 + 26 total of 52\n",
      "Ten vs. Queen\n",
      "Second won the round!\n",
      "Round: 3\n",
      "25 + 27 total of 52\n",
      "Four vs. Five\n",
      "Second won the round!\n",
      "Round: 4\n",
      "24 + 28 total of 52\n",
      "Jack vs. Three\n",
      "First won the round!\n",
      "Round: 5\n",
      "25 + 27 total of 52\n",
      "Four vs. Ace\n",
      "Second won the round!\n",
      "Round: 6\n",
      "24 + 28 total of 52\n",
      "Six vs. King\n",
      "Second won the round!\n",
      "Round: 7\n",
      "23 + 29 total of 52\n",
      "Five vs. Five\n",
      "Its a draw!\n",
      "Round: 8\n",
      "12 + 18 total of 30\n",
      "Eight vs. Nine\n",
      "Second won the round!\n",
      "Round: 9\n",
      "11 + 41 total of 52\n",
      "Three vs. Three\n",
      "Its a draw!\n",
      "Round: 10\n",
      "0 + 30 total of 30\n"
     ]
    }
   ],
   "source": [
    "play_game()"
   ]
  },
  {
   "cell_type": "code",
   "execution_count": null,
   "metadata": {},
   "outputs": [],
   "source": []
  },
  {
   "cell_type": "code",
   "execution_count": null,
   "metadata": {},
   "outputs": [],
   "source": []
  },
  {
   "cell_type": "code",
   "execution_count": null,
   "metadata": {},
   "outputs": [],
   "source": []
  },
  {
   "cell_type": "code",
   "execution_count": null,
   "metadata": {},
   "outputs": [],
   "source": []
  },
  {
   "cell_type": "code",
   "execution_count": null,
   "metadata": {},
   "outputs": [],
   "source": []
  },
  {
   "cell_type": "code",
   "execution_count": null,
   "metadata": {},
   "outputs": [],
   "source": []
  }
 ],
 "metadata": {
  "kernelspec": {
   "display_name": "Python 3",
   "language": "python",
   "name": "python3"
  },
  "language_info": {
   "codemirror_mode": {
    "name": "ipython",
    "version": 3
   },
   "file_extension": ".py",
   "mimetype": "text/x-python",
   "name": "python",
   "nbconvert_exporter": "python",
   "pygments_lexer": "ipython3",
   "version": "3.8.5"
  }
 },
 "nbformat": 4,
 "nbformat_minor": 4
}
